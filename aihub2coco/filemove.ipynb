{
 "cells": [
  {
   "cell_type": "code",
   "execution_count": 9,
   "metadata": {},
   "outputs": [],
   "source": [
    "import shutil\n",
    "import os\n",
    "import glob\n",
    "\n",
    "target = '/home/boo/Desktop/dataset/Training/label'\n",
    "base_path = '/home/boo/Desktop/dataset/Training/label-1/02.라벨링데이터/3D/{}/sensor_raw_data/camera'\n",
    "\n",
    "entries = os.listdir('/home/boo/Desktop/dataset/Training/label-1/02.라벨링데이터/3D')\n",
    "# print(entries)\n",
    "\n",
    "for entry in entries : \n",
    "    image_filename = sorted(glob.glob(os.path.join(base_path.format(entry),'*json')))\n",
    "    for i in range(len(image_filename)) :\n",
    "        shutil.move(image_filename[i], target)"
   ]
  }
 ],
 "metadata": {
  "kernelspec": {
   "display_name": "base",
   "language": "python",
   "name": "python3"
  },
  "language_info": {
   "codemirror_mode": {
    "name": "ipython",
    "version": 3
   },
   "file_extension": ".py",
   "mimetype": "text/x-python",
   "name": "python",
   "nbconvert_exporter": "python",
   "pygments_lexer": "ipython3",
   "version": "3.11.5"
  }
 },
 "nbformat": 4,
 "nbformat_minor": 2
}
