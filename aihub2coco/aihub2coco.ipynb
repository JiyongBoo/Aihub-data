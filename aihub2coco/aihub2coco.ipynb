{
 "cells": [
  {
   "cell_type": "code",
   "execution_count": 10,
   "metadata": {},
   "outputs": [
    {
     "name": "stdout",
     "output_type": "stream",
     "text": [
      "64801\n",
      "['22_111229_220623_25.json', '08_150721_220615_03.json', '08_150721_220615_32.json', '22_100653_221020_25.json', '08_105027_220627_10.json', '08_144931_220613_18.json', '08_143736_221012_40.json', '21_104728_220620_25.json', '08_193143_220608_04.json', '08_193837_220628_25.json']\n"
     ]
    }
   ],
   "source": [
    "import os\n",
    "import shutil\n",
    "import json\n",
    "import skimage\n",
    "import numpy as np\n",
    "import pandas as pd\n",
    "from collections import OrderedDict\n",
    "\n",
    "# 원본 annotation 파일들이 있는 경로\n",
    "annoResampleDir = \"/home/boo/Desktop/dataset/Training/label/\"\n",
    "\n",
    "# anno_dir 내 annotation 파일 이름 리스트업\n",
    "annoResampleList = os.listdir(annoResampleDir)\n",
    "print(len(annoResampleList))\n",
    "print(annoResampleList[:10])"
   ]
  },
  {
   "cell_type": "code",
   "execution_count": 11,
   "metadata": {},
   "outputs": [],
   "source": [
    "anno_dict_resample = {\"pedestrian\":0,\"trafficLight\":0,\"trafficSign\":0, \"twoWheeler\":0, \"vehicle\":0}"
   ]
  },
  {
   "cell_type": "code",
   "execution_count": 13,
   "metadata": {},
   "outputs": [
    {
     "name": "stderr",
     "output_type": "stream",
     "text": [
      "100%|██████████| 64801/64801 [00:49<00:00, 1320.60it/s]\n"
     ]
    }
   ],
   "source": [
    "# 안전보호구 5클래스(1,2,5,7,8)만 남기고 나머지 다 삭제하기\n",
    "# 수정 후 json 파일 변경\n",
    "# .DS_Store 파일이 간혹 생길때가 있습니다. 폴더 내에 해당 파일이 존재하면 오류가 발생합니다. 반드시 찾아서 삭제 후 진행하세요.\n",
    "from tqdm import tqdm\n",
    "f = open(\"/home/boo/Desktop/dataset/Training/resampling.txt\", 'w')\n",
    "\n",
    "# remove_list = [\"03\",\"04\",\"06\",\"09\",\"10\",\"11\",\"12\",\"13\",\"14\",\"15\",\"16\",\"17\",\"18\",\"19\",\"20\",\"21\",\"22\",\"23\",\"24\",\"25\",\n",
    "#             \"26\",\"27\",\"28\",\"29\",\"30\",\"31\",\"32\",\"33\",\"34\",\"35\",\"36\",\"37\",\"38\",\"39\",\"40\",\"41\",\"42\",\"43\",\"44\",\"45\"]\n",
    "\n",
    "for anno in tqdm(annoResampleList):\n",
    "    try :\n",
    "        with open(annoResampleDir + anno, encoding=\"utf-8-sig\", errors=\"ignore\") as json_file:\n",
    "            jsonData = json.load(json_file)\n",
    "    except : # .DS_Store가 있는지 확인하기 위해 작성, 일반적으로 mac Finder에는 해당 파일이 보이지 않으나 SFTP 시스템 등으로 보면 해당 파일이 있으니 삭제합니다.\n",
    "        print(anno)\n",
    "    imgPath = anno.replace(\".json\", \".jpg\")\n",
    "    df = pd.json_normalize(jsonData)\n",
    "    filename = df[\"information.filename\"][0]\n",
    "    annoList = df[\"annotations\"][0]\n",
    "\n",
    "    \n",
    "#     print(filename)\n",
    "#    for i in annoList[:]:\n",
    "#        if i[\"class\"] in remove_list:\n",
    "#            annoList.remove(i)\n",
    "    \n",
    "    if annoList : \n",
    "        for j in range(len(annoList)) : \n",
    "            item = annoList[j][\"class\"]\n",
    "            # class imblance를 조정하기 위해서 현재는 Tao yolo에서 class_weight를 지원하지만, 애초에 전처리 과정에서 개수를 제한해 적당한 비율 맞추기\n",
    "            # 해당 레이블 개수가 10000개를 이하이면\n",
    "            if anno_dict_resample[item] < 30000 :\n",
    "                anno_dict_resample[item] += 1\n",
    "                # 레이블이 10000개를 넘기지 않을 때만 이미지명을 저장한다. 중복이 생기지만 추후에 제거한다.\n",
    "                f.write(filename+'\\n')\n",
    "        \n",
    "    with open(annoResampleDir + anno, 'w', encoding=\"utf-8-sig\", errors=\"ignore\") as outfile:\n",
    "        json.dump(jsonData, outfile)\n",
    "        \n",
    "f.close()"
   ]
  },
  {
   "cell_type": "code",
   "execution_count": 14,
   "metadata": {},
   "outputs": [
    {
     "name": "stdout",
     "output_type": "stream",
     "text": [
      "23661\n",
      "['22_111229_220623_25.json', '08_150721_220615_03.json', '08_150721_220615_32.json', '22_100653_221020_25.json', '08_105027_220627_10.json', '08_144931_220613_18.json', '08_143736_221012_40.json', '21_104728_220620_25.json', '08_193143_220608_04.json', '08_193837_220628_25.json']\n",
      "OrderedDict([('vehicle', 165503), ('trafficSign', 53436), ('trafficLight', 47559), ('pedestrian', 35775), ('twoWheeler', 20000)])\n"
     ]
    }
   ],
   "source": [
    "# coding:utf-8\n",
    "import os\n",
    "import shutil\n",
    "import json\n",
    "import skimage\n",
    "import numpy as np\n",
    "import pandas as pd\n",
    "from collections import OrderedDict\n",
    "\n",
    "# 중복을 제거하고 남은 이미지에서 다시 한번 클래스의 분포를 확인한다\n",
    "annoResampleDir = \"/home/boo/Desktop/dataset/Training/resampling_label/\"\n",
    "# anno_dir 내 annotation 파일 이름 리스트업\n",
    "annoResampleList = os.listdir(annoResampleDir)\n",
    "print(len(annoResampleList))\n",
    "print(annoResampleList[:10])\n",
    "\n",
    "anno_dict_resample = {\"pedestrian\":0,\"trafficLight\":0,\"trafficSign\":0, \"twoWheeler\":0, \"vehicle\":0}\n",
    "\n",
    "for anno in annoResampleList:\n",
    "    with open(annoResampleDir + anno, encoding=\"utf-8-sig\", errors=\"ignore\") as json_file:\n",
    "        jsonData = json.load(json_file)\n",
    "    imgPath = anno.replace(\".json\", \".jpg\")\n",
    "    df = pd.json_normalize(jsonData)\n",
    "    filename = df[\"information.filename\"][0]\n",
    "    #print(df[\"image.filename\"][0])\n",
    "    for i in range(len(df[\"annotations\"][0])):\n",
    "        item = df[\"annotations\"][0][i][\"class\"] \n",
    "        anno_dict_resample[item] += 1\n",
    "        \n",
    "# 값(value)를 기준으로 정렬한 OrderedDict\n",
    "ordered_dict = OrderedDict(sorted(anno_dict_resample.items(), key=lambda t:t[1], reverse=True))\n",
    "print(ordered_dict)"
   ]
  }
 ],
 "metadata": {
  "kernelspec": {
   "display_name": "voc2coco",
   "language": "python",
   "name": "python3"
  },
  "language_info": {
   "codemirror_mode": {
    "name": "ipython",
    "version": 3
   },
   "file_extension": ".py",
   "mimetype": "text/x-python",
   "name": "python",
   "nbconvert_exporter": "python",
   "pygments_lexer": "ipython3",
   "version": "3.11.5"
  }
 },
 "nbformat": 4,
 "nbformat_minor": 2
}
